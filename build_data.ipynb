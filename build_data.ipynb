{
 "cells": [
  {
   "cell_type": "code",
   "execution_count": 151,
   "id": "initial_id",
   "metadata": {
    "collapsed": true,
    "ExecuteTime": {
     "end_time": "2023-11-04T20:00:41.127508Z",
     "start_time": "2023-11-04T20:00:41.108576Z"
    }
   },
   "outputs": [],
   "source": [
    "import pandas as pd\n",
    "import os, glob"
   ]
  },
  {
   "cell_type": "code",
   "execution_count": 152,
   "outputs": [
    {
     "name": "stderr",
     "output_type": "stream",
     "text": [
      "/var/folders/x3/42y9jxy964lg3yyk_9zhss280000gn/T/ipykernel_36836/3297713284.py:1: DtypeWarning: Columns (3,4) have mixed types. Specify dtype option on import or set low_memory=False.\n",
      "  master = pd.read_csv('/Users/bennett/PycharmProjects/ba810/data/species/Species_Database_wb_datanam2022.csv')\n"
     ]
    }
   ],
   "source": [
    "master = pd.read_csv('/Users/bennett/PycharmProjects/ba810/data/species/Species_Database_wb_datanam2022.csv')"
   ],
   "metadata": {
    "collapsed": false,
    "ExecuteTime": {
     "end_time": "2023-11-04T20:00:41.653896Z",
     "start_time": "2023-11-04T20:00:41.113293Z"
    }
   },
   "id": "b9788fd6cac0ae1b"
  },
  {
   "cell_type": "code",
   "execution_count": 153,
   "outputs": [
    {
     "name": "stdout",
     "output_type": "stream",
     "text": [
      "<class 'pandas.core.frame.DataFrame'>\n",
      "RangeIndex: 533464 entries, 0 to 533463\n",
      "Data columns (total 13 columns):\n",
      " #   Column            Non-Null Count   Dtype  \n",
      "---  ------            --------------   -----  \n",
      " 0   group             533464 non-null  object \n",
      " 1   binomial          533464 non-null  object \n",
      " 2   iucn_id_no        265845 non-null  float64\n",
      " 3   common_name       226479 non-null  object \n",
      " 4   name_language     226293 non-null  object \n",
      " 5   iucn_category     479322 non-null  object \n",
      " 6   iso_a3            533464 non-null  object \n",
      " 7   total_area        533464 non-null  float64\n",
      " 8   small_range       533464 non-null  int64  \n",
      " 9   wb_datanam        533464 non-null  object \n",
      " 10  wb_iso            532546 non-null  object \n",
      " 11  datanam_area      533464 non-null  float64\n",
      " 12  datanam_pct_area  533464 non-null  float64\n",
      "dtypes: float64(4), int64(1), object(8)\n",
      "memory usage: 52.9+ MB\n"
     ]
    }
   ],
   "source": [
    "master.info()"
   ],
   "metadata": {
    "collapsed": false,
    "ExecuteTime": {
     "end_time": "2023-11-04T20:00:41.728341Z",
     "start_time": "2023-11-04T20:00:41.652751Z"
    }
   },
   "id": "8ca27e46118a05e4"
  },
  {
   "cell_type": "code",
   "execution_count": 154,
   "outputs": [
    {
     "name": "stderr",
     "output_type": "stream",
     "text": [
      "/var/folders/x3/42y9jxy964lg3yyk_9zhss280000gn/T/ipykernel_36836/485960091.py:6: SettingWithCopyWarning: \n",
      "A value is trying to be set on a copy of a slice from a DataFrame\n",
      "\n",
      "See the caveats in the documentation: https://pandas.pydata.org/pandas-docs/stable/user_guide/indexing.html#returning-a-view-versus-a-copy\n",
      "  feature.rename(columns={'2022': descriptor}, inplace=True)\n"
     ]
    },
    {
     "data": {
      "text/plain": "                  group             binomial   iucn_id_no  \\\n0            Amphibians   Abavorana luctuosa  125161167.0   \n1            Amphibians   Abavorana luctuosa  125161167.0   \n2            Amphibians   Abavorana luctuosa  125161167.0   \n3            Amphibians     Abavorana nazgul  125160424.0   \n4            Amphibians  Acanthixalus sonjae      56054.0   \n...                 ...                  ...          ...   \n533459  Salt_Water_Fish  Zebrasoma xanthurum     178009.0   \n533460  Salt_Water_Fish  Zebrasoma xanthurum     178009.0   \n533461  Salt_Water_Fish  Zebrasoma xanthurum     178009.0   \n533462  Salt_Water_Fish  Zebrasoma xanthurum     178009.0   \n533463  Salt_Water_Fish  Zebrasoma xanthurum     178009.0   \n\n                           common_name name_language iucn_category iso_a3  \\\n0                          Purple Frog           eng            LC    IDN   \n1                          Purple Frog           eng            LC    MYS   \n2                          Purple Frog           eng            LC    THA   \n3       Gunung Jerai Black Stream-Frog           eng            CR    MYS   \n4                Ivory Coast Wart Frog           eng            VU    CIV   \n...                                ...           ...           ...    ...   \n533459                 Yellowtail Tang           eng            LC    QAT   \n533460                 Yellowtail Tang           eng            LC    SAU   \n533461                 Yellowtail Tang           eng            LC    SDN   \n533462                 Yellowtail Tang           eng            LC    SOM   \n533463                 Yellowtail Tang           eng            LC    YEM   \n\n          total_area  small_range     wb_datanam wb_iso   datanam_area  \\\n0       1.280056e+05            0      Indonesia    IDN   37194.238281   \n1       1.280056e+05            0       Malaysia    MYS   88498.500000   \n2       1.280056e+05            0       Thailand    THA    2312.827637   \n3       7.399752e+00            1       Malaysia    MYS       7.399752   \n4       6.030019e+03            0  Cote d'Ivoire    CIV    5699.439453   \n...              ...          ...            ...    ...            ...   \n533459  1.656421e+06            0          Qatar    QAT   31305.994141   \n533460  1.656421e+06            0   Saudi Arabia    SAU  207403.015625   \n533461  1.656421e+06            0          Sudan    SDN   74390.328125   \n533462  1.656421e+06            0        Somalia    SOM  103410.703125   \n533463  1.656421e+06            0    Yemen, Rep.    YEM  244625.187500   \n\n        datanam_pct_area ISO3  Surface Temperature Change  \n0              29.056736  IDN                       1.085  \n1              69.136452  MYS                       1.367  \n2               1.806818  THA                       1.014  \n3             100.000000  MYS                       1.367  \n4              94.517769  NaN                         NaN  \n...                  ...  ...                         ...  \n533459          1.889978  QAT                       1.855  \n533460         12.521153  SAU                       1.745  \n533461          4.491028  SDN                       0.773  \n533462          6.243021  SOM                       1.449  \n533463         14.768298  YEM                         NaN  \n\n[533464 rows x 15 columns]",
      "text/html": "<div>\n<style scoped>\n    .dataframe tbody tr th:only-of-type {\n        vertical-align: middle;\n    }\n\n    .dataframe tbody tr th {\n        vertical-align: top;\n    }\n\n    .dataframe thead th {\n        text-align: right;\n    }\n</style>\n<table border=\"1\" class=\"dataframe\">\n  <thead>\n    <tr style=\"text-align: right;\">\n      <th></th>\n      <th>group</th>\n      <th>binomial</th>\n      <th>iucn_id_no</th>\n      <th>common_name</th>\n      <th>name_language</th>\n      <th>iucn_category</th>\n      <th>iso_a3</th>\n      <th>total_area</th>\n      <th>small_range</th>\n      <th>wb_datanam</th>\n      <th>wb_iso</th>\n      <th>datanam_area</th>\n      <th>datanam_pct_area</th>\n      <th>ISO3</th>\n      <th>Surface Temperature Change</th>\n    </tr>\n  </thead>\n  <tbody>\n    <tr>\n      <th>0</th>\n      <td>Amphibians</td>\n      <td>Abavorana luctuosa</td>\n      <td>125161167.0</td>\n      <td>Purple Frog</td>\n      <td>eng</td>\n      <td>LC</td>\n      <td>IDN</td>\n      <td>1.280056e+05</td>\n      <td>0</td>\n      <td>Indonesia</td>\n      <td>IDN</td>\n      <td>37194.238281</td>\n      <td>29.056736</td>\n      <td>IDN</td>\n      <td>1.085</td>\n    </tr>\n    <tr>\n      <th>1</th>\n      <td>Amphibians</td>\n      <td>Abavorana luctuosa</td>\n      <td>125161167.0</td>\n      <td>Purple Frog</td>\n      <td>eng</td>\n      <td>LC</td>\n      <td>MYS</td>\n      <td>1.280056e+05</td>\n      <td>0</td>\n      <td>Malaysia</td>\n      <td>MYS</td>\n      <td>88498.500000</td>\n      <td>69.136452</td>\n      <td>MYS</td>\n      <td>1.367</td>\n    </tr>\n    <tr>\n      <th>2</th>\n      <td>Amphibians</td>\n      <td>Abavorana luctuosa</td>\n      <td>125161167.0</td>\n      <td>Purple Frog</td>\n      <td>eng</td>\n      <td>LC</td>\n      <td>THA</td>\n      <td>1.280056e+05</td>\n      <td>0</td>\n      <td>Thailand</td>\n      <td>THA</td>\n      <td>2312.827637</td>\n      <td>1.806818</td>\n      <td>THA</td>\n      <td>1.014</td>\n    </tr>\n    <tr>\n      <th>3</th>\n      <td>Amphibians</td>\n      <td>Abavorana nazgul</td>\n      <td>125160424.0</td>\n      <td>Gunung Jerai Black Stream-Frog</td>\n      <td>eng</td>\n      <td>CR</td>\n      <td>MYS</td>\n      <td>7.399752e+00</td>\n      <td>1</td>\n      <td>Malaysia</td>\n      <td>MYS</td>\n      <td>7.399752</td>\n      <td>100.000000</td>\n      <td>MYS</td>\n      <td>1.367</td>\n    </tr>\n    <tr>\n      <th>4</th>\n      <td>Amphibians</td>\n      <td>Acanthixalus sonjae</td>\n      <td>56054.0</td>\n      <td>Ivory Coast Wart Frog</td>\n      <td>eng</td>\n      <td>VU</td>\n      <td>CIV</td>\n      <td>6.030019e+03</td>\n      <td>0</td>\n      <td>Cote d'Ivoire</td>\n      <td>CIV</td>\n      <td>5699.439453</td>\n      <td>94.517769</td>\n      <td>NaN</td>\n      <td>NaN</td>\n    </tr>\n    <tr>\n      <th>...</th>\n      <td>...</td>\n      <td>...</td>\n      <td>...</td>\n      <td>...</td>\n      <td>...</td>\n      <td>...</td>\n      <td>...</td>\n      <td>...</td>\n      <td>...</td>\n      <td>...</td>\n      <td>...</td>\n      <td>...</td>\n      <td>...</td>\n      <td>...</td>\n      <td>...</td>\n    </tr>\n    <tr>\n      <th>533459</th>\n      <td>Salt_Water_Fish</td>\n      <td>Zebrasoma xanthurum</td>\n      <td>178009.0</td>\n      <td>Yellowtail Tang</td>\n      <td>eng</td>\n      <td>LC</td>\n      <td>QAT</td>\n      <td>1.656421e+06</td>\n      <td>0</td>\n      <td>Qatar</td>\n      <td>QAT</td>\n      <td>31305.994141</td>\n      <td>1.889978</td>\n      <td>QAT</td>\n      <td>1.855</td>\n    </tr>\n    <tr>\n      <th>533460</th>\n      <td>Salt_Water_Fish</td>\n      <td>Zebrasoma xanthurum</td>\n      <td>178009.0</td>\n      <td>Yellowtail Tang</td>\n      <td>eng</td>\n      <td>LC</td>\n      <td>SAU</td>\n      <td>1.656421e+06</td>\n      <td>0</td>\n      <td>Saudi Arabia</td>\n      <td>SAU</td>\n      <td>207403.015625</td>\n      <td>12.521153</td>\n      <td>SAU</td>\n      <td>1.745</td>\n    </tr>\n    <tr>\n      <th>533461</th>\n      <td>Salt_Water_Fish</td>\n      <td>Zebrasoma xanthurum</td>\n      <td>178009.0</td>\n      <td>Yellowtail Tang</td>\n      <td>eng</td>\n      <td>LC</td>\n      <td>SDN</td>\n      <td>1.656421e+06</td>\n      <td>0</td>\n      <td>Sudan</td>\n      <td>SDN</td>\n      <td>74390.328125</td>\n      <td>4.491028</td>\n      <td>SDN</td>\n      <td>0.773</td>\n    </tr>\n    <tr>\n      <th>533462</th>\n      <td>Salt_Water_Fish</td>\n      <td>Zebrasoma xanthurum</td>\n      <td>178009.0</td>\n      <td>Yellowtail Tang</td>\n      <td>eng</td>\n      <td>LC</td>\n      <td>SOM</td>\n      <td>1.656421e+06</td>\n      <td>0</td>\n      <td>Somalia</td>\n      <td>SOM</td>\n      <td>103410.703125</td>\n      <td>6.243021</td>\n      <td>SOM</td>\n      <td>1.449</td>\n    </tr>\n    <tr>\n      <th>533463</th>\n      <td>Salt_Water_Fish</td>\n      <td>Zebrasoma xanthurum</td>\n      <td>178009.0</td>\n      <td>Yellowtail Tang</td>\n      <td>eng</td>\n      <td>LC</td>\n      <td>YEM</td>\n      <td>1.656421e+06</td>\n      <td>0</td>\n      <td>Yemen, Rep.</td>\n      <td>YEM</td>\n      <td>244625.187500</td>\n      <td>14.768298</td>\n      <td>YEM</td>\n      <td>NaN</td>\n    </tr>\n  </tbody>\n</table>\n<p>533464 rows × 15 columns</p>\n</div>"
     },
     "execution_count": 154,
     "metadata": {},
     "output_type": "execute_result"
    }
   ],
   "source": [
    "# Add Surface Temperature Feature\n",
    "surface_temp = pd.read_csv('/Users/bennett/PycharmProjects/ba810/data/climate/25_Annual_Surface_Temperature_Change.csv')\n",
    "\n",
    "descriptor = surface_temp['CTS Name'][0]\n",
    "feature = surface_temp[['ISO3', '2022']]\n",
    "feature.rename(columns={'2022': descriptor}, inplace=True)\n",
    "\n",
    "master = master.merge(feature, left_on='iso_a3', right_on='ISO3', how='left')\n",
    "master"
   ],
   "metadata": {
    "collapsed": false,
    "ExecuteTime": {
     "end_time": "2023-11-04T20:00:41.897872Z",
     "start_time": "2023-11-04T20:00:41.729178Z"
    }
   },
   "id": "b8c8429281844489"
  },
  {
   "cell_type": "code",
   "execution_count": 155,
   "outputs": [
    {
     "data": {
      "text/plain": "                  group             binomial   iucn_id_no  \\\n0            Amphibians   Abavorana luctuosa  125161167.0   \n1            Amphibians   Abavorana luctuosa  125161167.0   \n2            Amphibians   Abavorana luctuosa  125161167.0   \n3            Amphibians     Abavorana nazgul  125160424.0   \n4            Amphibians  Acanthixalus sonjae      56054.0   \n...                 ...                  ...          ...   \n533459  Salt_Water_Fish  Zebrasoma xanthurum     178009.0   \n533460  Salt_Water_Fish  Zebrasoma xanthurum     178009.0   \n533461  Salt_Water_Fish  Zebrasoma xanthurum     178009.0   \n533462  Salt_Water_Fish  Zebrasoma xanthurum     178009.0   \n533463  Salt_Water_Fish  Zebrasoma xanthurum     178009.0   \n\n                           common_name name_language iucn_category iso_a3  \\\n0                          Purple Frog           eng            LC    IDN   \n1                          Purple Frog           eng            LC    MYS   \n2                          Purple Frog           eng            LC    THA   \n3       Gunung Jerai Black Stream-Frog           eng            CR    MYS   \n4                Ivory Coast Wart Frog           eng            VU    CIV   \n...                                ...           ...           ...    ...   \n533459                 Yellowtail Tang           eng            LC    QAT   \n533460                 Yellowtail Tang           eng            LC    SAU   \n533461                 Yellowtail Tang           eng            LC    SDN   \n533462                 Yellowtail Tang           eng            LC    SOM   \n533463                 Yellowtail Tang           eng            LC    YEM   \n\n          total_area  small_range     wb_datanam  ... datanam_pct_area  ISO3  \\\n0       1.280056e+05            0      Indonesia  ...        29.056736   IDN   \n1       1.280056e+05            0       Malaysia  ...        69.136452   MYS   \n2       1.280056e+05            0       Thailand  ...         1.806818   THA   \n3       7.399752e+00            1       Malaysia  ...       100.000000   MYS   \n4       6.030019e+03            0  Cote d'Ivoire  ...        94.517769   NaN   \n...              ...          ...            ...  ...              ...   ...   \n533459  1.656421e+06            0          Qatar  ...         1.889978   QAT   \n533460  1.656421e+06            0   Saudi Arabia  ...        12.521153   SAU   \n533461  1.656421e+06            0          Sudan  ...         4.491028   SDN   \n533462  1.656421e+06            0        Somalia  ...         6.243021   SOM   \n533463  1.656421e+06            0    Yemen, Rep.  ...        14.768298   YEM   \n\n        Surface Temperature Change  \\\n0                            1.085   \n1                            1.367   \n2                            1.014   \n3                            1.367   \n4                              NaN   \n...                            ...   \n533459                       1.855   \n533460                       1.745   \n533461                       0.773   \n533462                       1.449   \n533463                         NaN   \n\n       Climate related disasters frequency, Number of Disasters: Drought  \\\n0                                                     NaN                  \n1                                                     NaN                  \n2                                                     NaN                  \n3                                                     NaN                  \n4                                                     NaN                  \n...                                                   ...                  \n533459                                                NaN                  \n533460                                                NaN                  \n533461                                                1.0                  \n533462                                                NaN                  \n533463                                                NaN                  \n\n        Climate related disasters frequency, Number of Disasters: Extreme temperature  \\\n0                                                     NaN                               \n1                                                     NaN                               \n2                                                     NaN                               \n3                                                     NaN                               \n4                                                     NaN                               \n...                                                   ...                               \n533459                                                NaN                               \n533460                                                NaN                               \n533461                                                NaN                               \n533462                                                NaN                               \n533463                                                NaN                               \n\n        Climate related disasters frequency, Number of Disasters: Flood  \\\n0                                                    13.0                 \n1                                                     5.0                 \n2                                                     9.0                 \n3                                                     5.0                 \n4                                                     1.0                 \n...                                                   ...                 \n533459                                                NaN                 \n533460                                                NaN                 \n533461                                                1.0                 \n533462                                                1.0                 \n533463                                                3.0                 \n\n        Climate related disasters frequency, Number of Disasters: Landslide  \\\n0                                                     NaN                     \n1                                                     1.0                     \n2                                                     NaN                     \n3                                                     1.0                     \n4                                                     NaN                     \n...                                                   ...                     \n533459                                                NaN                     \n533460                                                NaN                     \n533461                                                NaN                     \n533462                                                NaN                     \n533463                                                NaN                     \n\n        Climate related disasters frequency, Number of Disasters: Storm  \\\n0                                                     NaN                 \n1                                                     NaN                 \n2                                                     2.0                 \n3                                                     NaN                 \n4                                                     NaN                 \n...                                                   ...                 \n533459                                                NaN                 \n533460                                                NaN                 \n533461                                                NaN                 \n533462                                                NaN                 \n533463                                                NaN                 \n\n        Climate related disasters frequency, Number of Disasters: TOTAL  \\\n0                                                    13.0                 \n1                                                     6.0                 \n2                                                    11.0                 \n3                                                     6.0                 \n4                                                     1.0                 \n...                                                   ...                 \n533459                                                NaN                 \n533460                                                NaN                 \n533461                                                2.0                 \n533462                                                1.0                 \n533463                                                3.0                 \n\n        Climate related disasters frequency, Number of Disasters: Wildfire  \n0                                                     NaN                   \n1                                                     NaN                   \n2                                                     NaN                   \n3                                                     NaN                   \n4                                                     NaN                   \n...                                                   ...                   \n533459                                                NaN                   \n533460                                                NaN                   \n533461                                                NaN                   \n533462                                                NaN                   \n533463                                                NaN                   \n\n[533464 rows x 22 columns]",
      "text/html": "<div>\n<style scoped>\n    .dataframe tbody tr th:only-of-type {\n        vertical-align: middle;\n    }\n\n    .dataframe tbody tr th {\n        vertical-align: top;\n    }\n\n    .dataframe thead th {\n        text-align: right;\n    }\n</style>\n<table border=\"1\" class=\"dataframe\">\n  <thead>\n    <tr style=\"text-align: right;\">\n      <th></th>\n      <th>group</th>\n      <th>binomial</th>\n      <th>iucn_id_no</th>\n      <th>common_name</th>\n      <th>name_language</th>\n      <th>iucn_category</th>\n      <th>iso_a3</th>\n      <th>total_area</th>\n      <th>small_range</th>\n      <th>wb_datanam</th>\n      <th>...</th>\n      <th>datanam_pct_area</th>\n      <th>ISO3</th>\n      <th>Surface Temperature Change</th>\n      <th>Climate related disasters frequency, Number of Disasters: Drought</th>\n      <th>Climate related disasters frequency, Number of Disasters: Extreme temperature</th>\n      <th>Climate related disasters frequency, Number of Disasters: Flood</th>\n      <th>Climate related disasters frequency, Number of Disasters: Landslide</th>\n      <th>Climate related disasters frequency, Number of Disasters: Storm</th>\n      <th>Climate related disasters frequency, Number of Disasters: TOTAL</th>\n      <th>Climate related disasters frequency, Number of Disasters: Wildfire</th>\n    </tr>\n  </thead>\n  <tbody>\n    <tr>\n      <th>0</th>\n      <td>Amphibians</td>\n      <td>Abavorana luctuosa</td>\n      <td>125161167.0</td>\n      <td>Purple Frog</td>\n      <td>eng</td>\n      <td>LC</td>\n      <td>IDN</td>\n      <td>1.280056e+05</td>\n      <td>0</td>\n      <td>Indonesia</td>\n      <td>...</td>\n      <td>29.056736</td>\n      <td>IDN</td>\n      <td>1.085</td>\n      <td>NaN</td>\n      <td>NaN</td>\n      <td>13.0</td>\n      <td>NaN</td>\n      <td>NaN</td>\n      <td>13.0</td>\n      <td>NaN</td>\n    </tr>\n    <tr>\n      <th>1</th>\n      <td>Amphibians</td>\n      <td>Abavorana luctuosa</td>\n      <td>125161167.0</td>\n      <td>Purple Frog</td>\n      <td>eng</td>\n      <td>LC</td>\n      <td>MYS</td>\n      <td>1.280056e+05</td>\n      <td>0</td>\n      <td>Malaysia</td>\n      <td>...</td>\n      <td>69.136452</td>\n      <td>MYS</td>\n      <td>1.367</td>\n      <td>NaN</td>\n      <td>NaN</td>\n      <td>5.0</td>\n      <td>1.0</td>\n      <td>NaN</td>\n      <td>6.0</td>\n      <td>NaN</td>\n    </tr>\n    <tr>\n      <th>2</th>\n      <td>Amphibians</td>\n      <td>Abavorana luctuosa</td>\n      <td>125161167.0</td>\n      <td>Purple Frog</td>\n      <td>eng</td>\n      <td>LC</td>\n      <td>THA</td>\n      <td>1.280056e+05</td>\n      <td>0</td>\n      <td>Thailand</td>\n      <td>...</td>\n      <td>1.806818</td>\n      <td>THA</td>\n      <td>1.014</td>\n      <td>NaN</td>\n      <td>NaN</td>\n      <td>9.0</td>\n      <td>NaN</td>\n      <td>2.0</td>\n      <td>11.0</td>\n      <td>NaN</td>\n    </tr>\n    <tr>\n      <th>3</th>\n      <td>Amphibians</td>\n      <td>Abavorana nazgul</td>\n      <td>125160424.0</td>\n      <td>Gunung Jerai Black Stream-Frog</td>\n      <td>eng</td>\n      <td>CR</td>\n      <td>MYS</td>\n      <td>7.399752e+00</td>\n      <td>1</td>\n      <td>Malaysia</td>\n      <td>...</td>\n      <td>100.000000</td>\n      <td>MYS</td>\n      <td>1.367</td>\n      <td>NaN</td>\n      <td>NaN</td>\n      <td>5.0</td>\n      <td>1.0</td>\n      <td>NaN</td>\n      <td>6.0</td>\n      <td>NaN</td>\n    </tr>\n    <tr>\n      <th>4</th>\n      <td>Amphibians</td>\n      <td>Acanthixalus sonjae</td>\n      <td>56054.0</td>\n      <td>Ivory Coast Wart Frog</td>\n      <td>eng</td>\n      <td>VU</td>\n      <td>CIV</td>\n      <td>6.030019e+03</td>\n      <td>0</td>\n      <td>Cote d'Ivoire</td>\n      <td>...</td>\n      <td>94.517769</td>\n      <td>NaN</td>\n      <td>NaN</td>\n      <td>NaN</td>\n      <td>NaN</td>\n      <td>1.0</td>\n      <td>NaN</td>\n      <td>NaN</td>\n      <td>1.0</td>\n      <td>NaN</td>\n    </tr>\n    <tr>\n      <th>...</th>\n      <td>...</td>\n      <td>...</td>\n      <td>...</td>\n      <td>...</td>\n      <td>...</td>\n      <td>...</td>\n      <td>...</td>\n      <td>...</td>\n      <td>...</td>\n      <td>...</td>\n      <td>...</td>\n      <td>...</td>\n      <td>...</td>\n      <td>...</td>\n      <td>...</td>\n      <td>...</td>\n      <td>...</td>\n      <td>...</td>\n      <td>...</td>\n      <td>...</td>\n      <td>...</td>\n    </tr>\n    <tr>\n      <th>533459</th>\n      <td>Salt_Water_Fish</td>\n      <td>Zebrasoma xanthurum</td>\n      <td>178009.0</td>\n      <td>Yellowtail Tang</td>\n      <td>eng</td>\n      <td>LC</td>\n      <td>QAT</td>\n      <td>1.656421e+06</td>\n      <td>0</td>\n      <td>Qatar</td>\n      <td>...</td>\n      <td>1.889978</td>\n      <td>QAT</td>\n      <td>1.855</td>\n      <td>NaN</td>\n      <td>NaN</td>\n      <td>NaN</td>\n      <td>NaN</td>\n      <td>NaN</td>\n      <td>NaN</td>\n      <td>NaN</td>\n    </tr>\n    <tr>\n      <th>533460</th>\n      <td>Salt_Water_Fish</td>\n      <td>Zebrasoma xanthurum</td>\n      <td>178009.0</td>\n      <td>Yellowtail Tang</td>\n      <td>eng</td>\n      <td>LC</td>\n      <td>SAU</td>\n      <td>1.656421e+06</td>\n      <td>0</td>\n      <td>Saudi Arabia</td>\n      <td>...</td>\n      <td>12.521153</td>\n      <td>SAU</td>\n      <td>1.745</td>\n      <td>NaN</td>\n      <td>NaN</td>\n      <td>NaN</td>\n      <td>NaN</td>\n      <td>NaN</td>\n      <td>NaN</td>\n      <td>NaN</td>\n    </tr>\n    <tr>\n      <th>533461</th>\n      <td>Salt_Water_Fish</td>\n      <td>Zebrasoma xanthurum</td>\n      <td>178009.0</td>\n      <td>Yellowtail Tang</td>\n      <td>eng</td>\n      <td>LC</td>\n      <td>SDN</td>\n      <td>1.656421e+06</td>\n      <td>0</td>\n      <td>Sudan</td>\n      <td>...</td>\n      <td>4.491028</td>\n      <td>SDN</td>\n      <td>0.773</td>\n      <td>1.0</td>\n      <td>NaN</td>\n      <td>1.0</td>\n      <td>NaN</td>\n      <td>NaN</td>\n      <td>2.0</td>\n      <td>NaN</td>\n    </tr>\n    <tr>\n      <th>533462</th>\n      <td>Salt_Water_Fish</td>\n      <td>Zebrasoma xanthurum</td>\n      <td>178009.0</td>\n      <td>Yellowtail Tang</td>\n      <td>eng</td>\n      <td>LC</td>\n      <td>SOM</td>\n      <td>1.656421e+06</td>\n      <td>0</td>\n      <td>Somalia</td>\n      <td>...</td>\n      <td>6.243021</td>\n      <td>SOM</td>\n      <td>1.449</td>\n      <td>NaN</td>\n      <td>NaN</td>\n      <td>1.0</td>\n      <td>NaN</td>\n      <td>NaN</td>\n      <td>1.0</td>\n      <td>NaN</td>\n    </tr>\n    <tr>\n      <th>533463</th>\n      <td>Salt_Water_Fish</td>\n      <td>Zebrasoma xanthurum</td>\n      <td>178009.0</td>\n      <td>Yellowtail Tang</td>\n      <td>eng</td>\n      <td>LC</td>\n      <td>YEM</td>\n      <td>1.656421e+06</td>\n      <td>0</td>\n      <td>Yemen, Rep.</td>\n      <td>...</td>\n      <td>14.768298</td>\n      <td>YEM</td>\n      <td>NaN</td>\n      <td>NaN</td>\n      <td>NaN</td>\n      <td>3.0</td>\n      <td>NaN</td>\n      <td>NaN</td>\n      <td>3.0</td>\n      <td>NaN</td>\n    </tr>\n  </tbody>\n</table>\n<p>533464 rows × 22 columns</p>\n</div>"
     },
     "execution_count": 155,
     "metadata": {},
     "output_type": "execute_result"
    }
   ],
   "source": [
    "# Add Climate Related Disasters Feature\n",
    "disasters = pd.read_csv('/Users/bennett/PycharmProjects/ba810/data/climate/30_Climate-related_Disasters_Frequency.csv')\n",
    "\n",
    "feature = disasters[['ISO3', '2022', 'Indicator']]\n",
    "feature = feature.pivot(index='ISO3', columns='Indicator', values='2022')\n",
    "\n",
    "master = master.merge(feature, left_on='iso_a3', right_on='ISO3', how='left')\n",
    "master\n"
   ],
   "metadata": {
    "collapsed": false,
    "ExecuteTime": {
     "end_time": "2023-11-04T20:00:42.129640Z",
     "start_time": "2023-11-04T20:00:41.958066Z"
    }
   },
   "id": "2522f2b991ec7324"
  },
  {
   "cell_type": "code",
   "execution_count": 198,
   "outputs": [],
   "source": [
    "# Precipitation and Population Density\n",
    "from time import sleep\n",
    "import requests\n",
    "base = 'https://cckpapi.worldbank.org/cckp/v1/' \n",
    "\n",
    "countries = master['ISO3'].dropna().unique().tolist()\n",
    "\n",
    "population_density = 'pop-x1_timeseries_popdensity_timeseries_annual_2010-2100_mean_ssp119_gpw-v4_rev11_mean/VALUE?_format=json'\n",
    "precipitation = 'cmip6-x0.25_timeseries_pr_timeseries_annual_2015-2100_mean_ssp126_access-cm2_r1i1p1f1_mean/VALUE?_format=json'\n",
    "\n",
    "pop_query = base + population_density\n",
    "precip_query = base + precipitation\n",
    "\n",
    "json_data = {'Population Density': [], 'Precipitation': [], 'ISO3': []}"
   ],
   "metadata": {
    "collapsed": false,
    "ExecuteTime": {
     "end_time": "2023-11-04T21:06:26.311517Z",
     "start_time": "2023-11-04T21:06:26.282818Z"
    }
   },
   "id": "d64a12e813c69e5e"
  },
  {
   "cell_type": "code",
   "execution_count": 209,
   "outputs": [],
   "source": [
    "for i in range(0, len(countries), 3):\n",
    "    batch = countries[i:i+3]\n",
    "    \n",
    "    batch_pop_query = pop_query.replace('VALUE', ','.join(batch))\n",
    "    batch_pop = requests.get(batch_pop_query).json()\n",
    "    \n",
    "    sleep(5)\n",
    "    \n",
    "    batch_precip_query = precip_query.replace('VALUE', ','.join(batch))\n",
    "    batch_precip = requests.get(batch_precip_query).json()\n",
    "    \n",
    "    sleep(5)\n",
    "    \n",
    "    # population density\n",
    "    for j in range(0, len(batch)):\n",
    "        try:\n",
    "            json_data['Population Density'].append(batch_pop['data'][batch[j]]['2020-07'])\n",
    "            json_data['ISO3'].append(batch[j])\n",
    "        except:\n",
    "            json_data['Population Density'].append('error')\n",
    "            json_data['ISO3'].append(batch[j])\n",
    "        \n",
    "    for j in range(0, len(batch)):\n",
    "        try:\n",
    "            json_data['Precipitation'].append(round(float(batch_precip['data'][batch[j]]['2022-07']) - float(batch_precip['data'][batch[j]]['2021-07']), 2))\n",
    "        except:\n",
    "            json_data['Precipitation'].append('error')"
   ],
   "metadata": {
    "collapsed": false,
    "ExecuteTime": {
     "end_time": "2023-11-04T21:28:41.624323Z",
     "start_time": "2023-11-04T21:14:17.017750Z"
    }
   },
   "id": "fef63ccb3e3ade4e"
  },
  {
   "cell_type": "code",
   "execution_count": 211,
   "outputs": [],
   "source": [
    "pop_pre = pd.DataFrame(json_data)"
   ],
   "metadata": {
    "collapsed": false,
    "ExecuteTime": {
     "end_time": "2023-11-04T21:35:34.676173Z",
     "start_time": "2023-11-04T21:35:34.671484Z"
    }
   },
   "id": "7f5851c2b0b0c6f1"
  },
  {
   "cell_type": "code",
   "execution_count": 212,
   "outputs": [
    {
     "data": {
      "text/plain": "    Population Density Precipitation ISO3\n0                50.09         97.02  AFG\n1                 None         -3.12  USA\n2               418.88        165.81  IND\n3                 95.4        -58.41  IDN\n4                42.03         11.69  MYS\n..                 ...           ...  ...\n221               None         870.9  TUV\n222               2.98        206.62  ISL\n223                  0        112.47  PCN\n224              13.13        112.82  FRO\n225              error         error  FLK\n\n[226 rows x 3 columns]",
      "text/html": "<div>\n<style scoped>\n    .dataframe tbody tr th:only-of-type {\n        vertical-align: middle;\n    }\n\n    .dataframe tbody tr th {\n        vertical-align: top;\n    }\n\n    .dataframe thead th {\n        text-align: right;\n    }\n</style>\n<table border=\"1\" class=\"dataframe\">\n  <thead>\n    <tr style=\"text-align: right;\">\n      <th></th>\n      <th>Population Density</th>\n      <th>Precipitation</th>\n      <th>ISO3</th>\n    </tr>\n  </thead>\n  <tbody>\n    <tr>\n      <th>0</th>\n      <td>50.09</td>\n      <td>97.02</td>\n      <td>AFG</td>\n    </tr>\n    <tr>\n      <th>1</th>\n      <td>None</td>\n      <td>-3.12</td>\n      <td>USA</td>\n    </tr>\n    <tr>\n      <th>2</th>\n      <td>418.88</td>\n      <td>165.81</td>\n      <td>IND</td>\n    </tr>\n    <tr>\n      <th>3</th>\n      <td>95.4</td>\n      <td>-58.41</td>\n      <td>IDN</td>\n    </tr>\n    <tr>\n      <th>4</th>\n      <td>42.03</td>\n      <td>11.69</td>\n      <td>MYS</td>\n    </tr>\n    <tr>\n      <th>...</th>\n      <td>...</td>\n      <td>...</td>\n      <td>...</td>\n    </tr>\n    <tr>\n      <th>221</th>\n      <td>None</td>\n      <td>870.9</td>\n      <td>TUV</td>\n    </tr>\n    <tr>\n      <th>222</th>\n      <td>2.98</td>\n      <td>206.62</td>\n      <td>ISL</td>\n    </tr>\n    <tr>\n      <th>223</th>\n      <td>0</td>\n      <td>112.47</td>\n      <td>PCN</td>\n    </tr>\n    <tr>\n      <th>224</th>\n      <td>13.13</td>\n      <td>112.82</td>\n      <td>FRO</td>\n    </tr>\n    <tr>\n      <th>225</th>\n      <td>error</td>\n      <td>error</td>\n      <td>FLK</td>\n    </tr>\n  </tbody>\n</table>\n<p>226 rows × 3 columns</p>\n</div>"
     },
     "execution_count": 212,
     "metadata": {},
     "output_type": "execute_result"
    }
   ],
   "source": [
    "pop_pre"
   ],
   "metadata": {
    "collapsed": false,
    "ExecuteTime": {
     "end_time": "2023-11-04T21:35:38.067655Z",
     "start_time": "2023-11-04T21:35:38.046796Z"
    }
   },
   "id": "ded3c9420b9117b2"
  },
  {
   "cell_type": "code",
   "execution_count": 213,
   "outputs": [],
   "source": [
    "master = master.merge(pop_pre, left_on='iso_a3', right_on='ISO3', how='left')\n",
    "master.rename(columns={'Precipitation': 'Change in Precipitation', 'datanam_area': 'Inhabited Area within Country'}, inplace=True)\n",
    "master.drop(columns={'ISO3_x', 'ISO3_y'}, inplace=True)"
   ],
   "metadata": {
    "collapsed": false,
    "ExecuteTime": {
     "end_time": "2023-11-04T21:36:29.480310Z",
     "start_time": "2023-11-04T21:36:29.286993Z"
    }
   },
   "id": "af4220fbb9499b13"
  },
  {
   "cell_type": "code",
   "execution_count": null,
   "outputs": [],
   "source": [
    "ghg = pd.read_excel('/Users/bennett/PycharmProjects/ba810/data/climate/EDGARv8.0_FT2022_GHG_booklet_2023.xlsx', sheet_name='GHG_totals_by_country')\n",
    "master = master.merge(ghg[['EDGAR Country Code', 2022]].rename(columns={2022: 'GHG emissions'}), left_on='iso_a3', right_on='EDGAR Country Code').drop(columns=['EDGAR Country Code'])"
   ],
   "metadata": {
    "collapsed": false
   },
   "id": "efb639a21bde1078"
  },
  {
   "cell_type": "code",
   "execution_count": 220,
   "outputs": [
    {
     "name": "stdout",
     "output_type": "stream",
     "text": [
      "<class 'pandas.core.frame.DataFrame'>\n",
      "RangeIndex: 546953 entries, 0 to 546952\n",
      "Data columns (total 23 columns):\n",
      " #   Column                                                                         Non-Null Count   Dtype  \n",
      "---  ------                                                                         --------------   -----  \n",
      " 0   group                                                                          546953 non-null  object \n",
      " 1   binomial                                                                       546953 non-null  object \n",
      " 2   iucn_id_no                                                                     274122 non-null  float64\n",
      " 3   common_name                                                                    233601 non-null  object \n",
      " 4   name_language                                                                  233242 non-null  object \n",
      " 5   iucn_category                                                                  491534 non-null  object \n",
      " 6   iso_a3                                                                         546953 non-null  object \n",
      " 7   total_area                                                                     546953 non-null  float64\n",
      " 8   small_range                                                                    546953 non-null  int64  \n",
      " 9   wb_datanam                                                                     546953 non-null  object \n",
      " 10  wb_iso                                                                         546035 non-null  object \n",
      " 11  Inhabited Area within Country                                                  546953 non-null  float64\n",
      " 12  datanam_pct_area                                                               546953 non-null  float64\n",
      " 13  Surface Temperature Change                                                     502862 non-null  float64\n",
      " 14  Climate related disasters frequency, Number of Disasters: Drought              84941 non-null   float64\n",
      " 15  Climate related disasters frequency, Number of Disasters: Extreme temperature  26861 non-null   float64\n",
      " 16  Climate related disasters frequency, Number of Disasters: Flood                328935 non-null  float64\n",
      " 17  Climate related disasters frequency, Number of Disasters: Landslide            78856 non-null   float64\n",
      " 18  Climate related disasters frequency, Number of Disasters: Storm                168645 non-null  float64\n",
      " 19  Climate related disasters frequency, Number of Disasters: TOTAL                390495 non-null  float64\n",
      " 20  Climate related disasters frequency, Number of Disasters: Wildfire             40220 non-null   float64\n",
      " 21  Population Density                                                             491245 non-null  object \n",
      " 22  Change in Precipitation                                                        523153 non-null  object \n",
      "dtypes: float64(12), int64(1), object(10)\n",
      "memory usage: 96.0+ MB\n"
     ]
    }
   ],
   "source": [
    "master.info()"
   ],
   "metadata": {
    "collapsed": false,
    "ExecuteTime": {
     "end_time": "2023-11-04T21:41:52.858878Z",
     "start_time": "2023-11-04T21:41:52.834819Z"
    }
   },
   "id": "5a0c8218dd2f06a1"
  },
  {
   "cell_type": "code",
   "execution_count": 221,
   "outputs": [],
   "source": [
    "features = master[['group', 'total_area', 'Inhabited Area within Country', 'Surface Temperature Change', 'Climate related disasters frequency, Number of Disasters: Drought', 'Climate related disasters frequency, Number of Disasters: Extreme temperature', 'Climate related disasters frequency, Number of Disasters: Landslide', 'Climate related disasters frequency, Number of Disasters: Flood', 'Climate related disasters frequency, Number of Disasters: Storm', 'Climate related disasters frequency, Number of Disasters: Wildfire', 'Population Density', 'Change in Precipitation', 'GHG emissions']]"
   ],
   "metadata": {
    "collapsed": false,
    "ExecuteTime": {
     "end_time": "2023-11-04T21:43:42.755481Z",
     "start_time": "2023-11-04T21:43:42.640Z"
    }
   },
   "id": "7e951c27aa71bc07"
  },
  {
   "cell_type": "code",
   "execution_count": 222,
   "outputs": [],
   "source": [
    "predictor_vector = master['iucn_category']"
   ],
   "metadata": {
    "collapsed": false,
    "ExecuteTime": {
     "end_time": "2023-11-04T21:44:18.639942Z",
     "start_time": "2023-11-04T21:44:18.623585Z"
    }
   },
   "id": "d6e3f7c687e93c61"
  },
  {
   "cell_type": "code",
   "execution_count": 224,
   "outputs": [],
   "source": [
    "master.to_csv('/Users/bennett/PycharmProjects/ba810/data/learning_set.csv')"
   ],
   "metadata": {
    "collapsed": false,
    "ExecuteTime": {
     "end_time": "2023-11-04T21:46:21.138200Z",
     "start_time": "2023-11-04T21:46:18.314111Z"
    }
   },
   "id": "7f28e7914062e026"
  },
  {
   "cell_type": "code",
   "execution_count": null,
   "outputs": [],
   "source": [],
   "metadata": {
    "collapsed": false
   },
   "id": "acafc8b10ff7cb05"
  }
 ],
 "metadata": {
  "kernelspec": {
   "display_name": "Python 3",
   "language": "python",
   "name": "python3"
  },
  "language_info": {
   "codemirror_mode": {
    "name": "ipython",
    "version": 2
   },
   "file_extension": ".py",
   "mimetype": "text/x-python",
   "name": "python",
   "nbconvert_exporter": "python",
   "pygments_lexer": "ipython2",
   "version": "2.7.6"
  }
 },
 "nbformat": 4,
 "nbformat_minor": 5
}
